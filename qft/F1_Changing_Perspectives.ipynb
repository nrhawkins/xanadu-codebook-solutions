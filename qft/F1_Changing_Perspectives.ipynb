{
 "cells": [
  {
   "cell_type": "markdown",
   "id": "c7959da1",
   "metadata": {},
   "source": [
    "# F.1 Changing Perspectives\n",
    "\n",
    "In this node, we will change gears and discuss the basics of the classical Discrete Fourier transform (DFT), which has made a significant impact in the field of signal processing for transforming data from the time domain to the frequency domain and back. The DFT is a unitary transformation, which makes it a good candidate for quantum computers. But before we discuss the Quantum Fourier transform, let's understand how the classical DFT works using the Fast Fourier transform (FFT) algorithm. We can demonstrate the ingenuity of the FFT by using it to solve the problem of polynomial multiplication.\n",
    "\n",
    "We will now implement all of the steps to perform polynomial multiplication using NumPy's DFT/FFT module."
   ]
  },
  {
   "cell_type": "markdown",
   "id": "ba7ab49f",
   "metadata": {},
   "source": [
    "Codercise F.1.1. Given a polynomial in its coefficient representation, convert it into a value representation using NumPy's DFT/FFT module."
   ]
  },
  {
   "cell_type": "code",
   "execution_count": 1,
   "id": "133578f4",
   "metadata": {},
   "outputs": [],
   "source": [
    "import numpy as np"
   ]
  },
  {
   "cell_type": "code",
   "execution_count": 2,
   "id": "dc57244e",
   "metadata": {},
   "outputs": [
    {
     "name": "stdout",
     "output_type": "stream",
     "text": [
      "[10.+0.j  2.-2.j  2.+0.j  2.+2.j]\n"
     ]
    }
   ],
   "source": [
    "def coefficients_to_values(coefficients):\n",
    "    \"\"\"Returns the value representation of a polynomial\n",
    "    \n",
    "    Args:\n",
    "        coefficients (array[complex]): a 1-D array of complex \n",
    "            coefficients of a polynomial with \n",
    "            index i representing the i-th degree coefficient\n",
    "\n",
    "    Returns: \n",
    "        array[complex]: the value representation of the \n",
    "            polynomial \n",
    "    \"\"\"\n",
    "    ##################\n",
    "    # YOUR CODE HERE #\n",
    "    ################## \n",
    "    return np.fft.fft(coefficients)\n",
    "\n",
    "A = [4, 3, 2, 1]\n",
    "print(coefficients_to_values(A))"
   ]
  },
  {
   "cell_type": "markdown",
   "id": "ce07184e",
   "metadata": {},
   "source": []
  },
  {
   "cell_type": "markdown",
   "id": "741bb0f0",
   "metadata": {},
   "source": [
    "Now, let's write a function to convert the polynomial's value representation back to the coefficient representation using Inverse FFT. This is not difficult, because the DFT matrix is unitary, and thus invertible!\n",
    "\n",
    "Codercise F.1.2. Given a polynomial in its value representation, use the NumPy's DFT/FFT module to convert from the value representation to the coefficient representation."
   ]
  },
  {
   "cell_type": "code",
   "execution_count": 6,
   "id": "5702f86a",
   "metadata": {},
   "outputs": [
    {
     "name": "stdout",
     "output_type": "stream",
     "text": [
      "[4.+0.j 3.+0.j 2.+0.j 1.+0.j]\n"
     ]
    }
   ],
   "source": [
    "def values_to_coefficients(values):\n",
    "    \"\"\"Returns the coefficient representation of a polynomial\n",
    "    \n",
    "    Args:\n",
    "        values (array[complex]): a 1-D complex array with \n",
    "            the value representation of a polynomial \n",
    "\n",
    "    Returns: \n",
    "        array[complex]: a 1-D complex array of coefficients\n",
    "    \"\"\"\n",
    "    \n",
    "    ##################\n",
    "    # YOUR CODE HERE #\n",
    "    ################## \n",
    "    return np.fft.ifft(values)\n",
    "\n",
    "\n",
    "A = [10.+0.j,  2.-2.j,  2.+0.j,  2.+2.j]\n",
    "print(values_to_coefficients(A))"
   ]
  },
  {
   "cell_type": "markdown",
   "id": "4e82c12e",
   "metadata": {},
   "source": [
    "Now that we can switch between the polynomial's coefficient representation and value representation, we can start building up to multiplying two polynomials.\n",
    "\n",
    "Given two polynomials of degree  and degree , the product of the polynomials will have a degree of . We need to choose  points to get the value representation of the polynomial. In general, to keep things convenient, we choose  to be a power of . For example, if we have a resulting polynomial of degree , we would want to choose  points. For Numpy's DFT/FFT module, this is not a requirement, but we will choose the points in this way to keep calculations clean. First, let us implement a helper function that finds the nearest power of 2 greater than a given number. We will use this function in subsequent exercises.\n",
    "\n",
    "Codercise F.1.3. Implement a helper function nearest_power_of_2 that calculates a power of 2 that is greater than a given number.\n",
    "\n",
    "Hint.\n",
    "Let's look at simple example, we want to find the nearest power of 2 of  (which is 16, of course). Taking the logarithm base 2, we have\n",
    "\n",
    "To find the nearest power of 2, we calculate .\n",
    "\n",
    "Hint.\n",
    "Use the ceil and log2 functions provided by NumPy."
   ]
  },
  {
   "cell_type": "code",
   "execution_count": 3,
   "id": "90cd729b",
   "metadata": {},
   "outputs": [],
   "source": [
    "def nearest_power_of_2(x):\n",
    "    \"\"\"Given an integer, return the nearest power of 2. \n",
    "    \n",
    "    Args:\n",
    "        x (int): a positive integer\n",
    "\n",
    "    Returns: \n",
    "        int: the nearest power of 2 of x\n",
    "    \"\"\"\n",
    "    ##################\n",
    "    # YOUR CODE HERE #\n",
    "    ################## \n",
    "    \n",
    "    return 2**int(np.ceil(np.log2(x)))"
   ]
  },
  {
   "cell_type": "markdown",
   "id": "9b428759",
   "metadata": {},
   "source": [
    "We are now ready to implement our procedure for polynomial multiplication end-to-end. Given two polynomials, we first convert them from their coefficient representation to their value representation, multiply them, and convert the resulting polynomial (in value representation), back to the coefficient representation.\n",
    "\n",
    "Codercise F.1.4. Given two polynomials in their coefficient representation, write a function to multiply them both using the functions coefficients_to_values, nearest_power_of_2, and values_to_coefficients."
   ]
  },
  {
   "cell_type": "code",
   "execution_count": 5,
   "id": "7bea7b84",
   "metadata": {},
   "outputs": [],
   "source": [
    "def fft_multiplication(poly_a, poly_b):\n",
    "    \"\"\"Returns the result of multiplying two polynomials\n",
    "    \n",
    "    Args:\n",
    "        poly_a (array[complex]): 1-D array of coefficients \n",
    "        poly_b (array[complex]): 1-D array of coefficients \n",
    "\n",
    "    Returns: \n",
    "        array[complex]: complex coefficients of the product\n",
    "            of the polynomials\n",
    "    \"\"\"\n",
    "    ##################\n",
    "    # YOUR CODE HERE #\n",
    "    ################## \n",
    "\n",
    "    # Calculate the number of values required\n",
    "    n_required = len(poly_a) - 1 + len(poly_b) - 1 + 1\n",
    "    # Figure out the nearest power of 2\n",
    "    n = nearest_power_of_2(n_required)\n",
    "    # Pad zeros to the polynomial\n",
    "    pad_size = abs(len(poly_a)-len(poly_b))\n",
    "    poly_a_pad = np.pad(poly_a, (0, n - len(poly_a)), \"constant\")\n",
    "    poly_b_pad = np.pad(poly_b, (0, n - len(poly_b)), \"constant\")\n",
    "    # Convert the polynomials to value representation \n",
    "    a_values = np.fft.fft(poly_a_pad)\n",
    "    b_values = np.fft.fft(poly_b_pad)\n",
    "    # Multiply\n",
    "    product_a_b = np.multiply(a_values, b_values)\n",
    "    # Convert back to coefficient representation\n",
    "    return values_to_coefficients(product_a_b)"
   ]
  },
  {
   "cell_type": "code",
   "execution_count": null,
   "id": "dd67b824",
   "metadata": {},
   "outputs": [],
   "source": []
  }
 ],
 "metadata": {
  "kernelspec": {
   "display_name": "osc_py39",
   "language": "python",
   "name": "osc_py39"
  },
  "language_info": {
   "codemirror_mode": {
    "name": "ipython",
    "version": 3
   },
   "file_extension": ".py",
   "mimetype": "text/x-python",
   "name": "python",
   "nbconvert_exporter": "python",
   "pygments_lexer": "ipython3",
   "version": "3.9.16"
  }
 },
 "nbformat": 4,
 "nbformat_minor": 5
}
