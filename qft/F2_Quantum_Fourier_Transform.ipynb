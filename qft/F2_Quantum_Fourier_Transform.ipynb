{
 "cells": [
  {
   "cell_type": "markdown",
   "id": "a392276f",
   "metadata": {},
   "source": [
    "# F2 Quantum Fourier Transform\n",
    "\n",
    "In the previous node we discussed that the DFT matrix is unitary, so could we benefit from a quantum implementation of the Fourier transform? In this node, we discuss the basics of the Quantum Fourier transform (QFT) and figure out how we can go about implementing it. The QFT matrix looks very similar to the DFT matrix except with a normalization factor of . \n",
    "\n",
    "Codercise F.2.1. Implement the circuit that performs the single-qubit QFT operation, i.e., for ."
   ]
  },
  {
   "cell_type": "code",
   "execution_count": 4,
   "id": "2efe43de",
   "metadata": {},
   "outputs": [],
   "source": [
    "import numpy as np\n",
    "import pennylane as qml"
   ]
  },
  {
   "cell_type": "code",
   "execution_count": 5,
   "id": "4a23064e",
   "metadata": {},
   "outputs": [],
   "source": [
    "dev = qml.device(\"default.qubit\", wires=1)\n",
    "\n",
    "@qml.qnode(dev)\n",
    "def one_qubit_QFT(basis_id):\n",
    "    \"\"\"A circuit that computes the QFT on a single qubit. \n",
    "    \n",
    "    Args:\n",
    "        basis_id (int): An integer value identifying \n",
    "            the basis state to construct.\n",
    "    \n",
    "    Returns:\n",
    "        array[complex]: The state of the qubit after applying QFT.\n",
    "    \"\"\"\n",
    "    # Prepare the basis state |basis_id>\n",
    "    bits = [int(x) for x in np.binary_repr(basis_id, width=dev.num_wires)]\n",
    "    qml.BasisStatePreparation(bits, wires=[0])\n",
    "\n",
    "    ##################\n",
    "    # YOUR CODE HERE #\n",
    "    ##################\n",
    "    \n",
    "    qml.Hadamard(wires=0)\n",
    "    return qml.state()\n"
   ]
  },
  {
   "cell_type": "markdown",
   "id": "2b73131a",
   "metadata": {},
   "source": [
    "The QFT circuit for a single qubit is simply the Hadamard gate! Let us now implement the two-qubit QFT.\n",
    "\n",
    "Codercise F.2.2. Implement a circuit that performs the two-qubit QFT operation. First, derive the QFT matrix for . Then, use the qml.QubitUnitary operation to apply it."
   ]
  },
  {
   "cell_type": "code",
   "execution_count": 10,
   "id": "5f85be24",
   "metadata": {},
   "outputs": [],
   "source": [
    "n_bits = 2\n",
    "dev = qml.device(\"default.qubit\", wires=n_bits)\n",
    "\n",
    "@qml.qnode(dev)\n",
    "def two_qubit_QFT(basis_id):\n",
    "    \"\"\"A circuit that computes the QFT on two qubits using qml.QubitUnitary. \n",
    "    \n",
    "    Args:\n",
    "        basis_id (int): An integer value identifying the basis state to construct.\n",
    "    \n",
    "    Returns:\n",
    "        array[complex]: The state of the qubits after the QFT operation.\n",
    "    \"\"\"\n",
    "    \n",
    "    # Prepare the basis state |basis_id>\n",
    "    bits = [int(x) for x in np.binary_repr(basis_id, width=dev.num_wires)]\n",
    "    qml.BasisStatePreparation(bits, wires=[0, 1])\n",
    "    \n",
    "    ##################\n",
    "    # YOUR CODE HERE #\n",
    "    ##################\n",
    "\n",
    "    U = 1 / 2 * np.array([[1, 1, 1, 1], \n",
    "                          [1, complex(0,1), -1, complex(0,-1)],\n",
    "                          [1, -1, 1, -1],\n",
    "                          [1, complex(0,-1), -1, complex(0,1)]\n",
    "                          ])\n",
    "\n",
    "    qml.QubitUnitary(U, wires=[0,1])\n",
    "\n",
    "    return qml.state()"
   ]
  },
  {
   "cell_type": "markdown",
   "id": "47f766ba",
   "metadata": {},
   "source": [
    "If we were going to actually do this on a quantum computer, we'd need to express it in terms of elementary gates. In general, this is the problem of circuit synthesis; it turns out, though, that the QFT has a well-defined, recursive structure, which you will start to see in the next exercise.\n",
    "\n",
    "Let's look at the two-qubit QFT matrix:\n",
    "\n",
    "Codercise F.2.3. Implement the two-qubit QFT using a combination of gates (without using qml.QubitUnitary).\n",
    "\n",
    "Hint.\n",
    "Here is a PennyLane function that you may not have encountered until now. A gate can be transformed into a controlled gate by applying qml.ctrl.\n",
    "\n",
    "For example,\n",
    "\n",
    "qml.ctrl(qml.PauliY, control=1)(wires=0)\n",
    "is equivalent to applying a controlled- operation where qubit 1 is the control, and qubit 0 is the target.\n",
    "\n",
    "Hint.\n",
    "Don't forget to swap the inner rows back!"
   ]
  },
  {
   "cell_type": "code",
   "execution_count": 11,
   "id": "7e289720",
   "metadata": {},
   "outputs": [],
   "source": [
    "# qml.ctrl(qml.PauliY, control=1)(wires=0)"
   ]
  },
  {
   "cell_type": "code",
   "execution_count": 12,
   "id": "68829cf0",
   "metadata": {},
   "outputs": [],
   "source": [
    "dev = qml.device(\"default.qubit\", wires=2)\n",
    "\n",
    "@qml.qnode(dev)\n",
    "def decompose_two_qubit_QFT(basis_id):\n",
    "    \"\"\"A circuit that computes the QFT on two qubits using elementary gates.\n",
    "    \n",
    "    Args:\n",
    "        basis_id (int): An integer value identifying the basis state to construct.\n",
    "    \n",
    "    Returns:\n",
    "        array[complex]: The state of the qubits after the QFT operation.\n",
    "    \"\"\"\n",
    "    # Prepare the basis state |basis_id>\n",
    "    bits = [int(x) for x in np.binary_repr(basis_id, width=dev.num_wires)]\n",
    "    qml.BasisStatePreparation(bits, wires=[0, 1])\n",
    "    \n",
    "    ##################\n",
    "    # YOUR CODE HERE #\n",
    "    ##################\n",
    "    \n",
    "    qml.Hadamard(wires=0)\n",
    "    \n",
    "    qml.ctrl(qml.S, control=1)(wires=0)\n",
    "\n",
    "    qml.Hadamard(wires=1)\n",
    "\n",
    "    qml.SWAP(wires=[0,1])\n",
    "    \n",
    "    return qml.state()"
   ]
  },
  {
   "cell_type": "code",
   "execution_count": null,
   "id": "5b830cc1",
   "metadata": {},
   "outputs": [],
   "source": []
  }
 ],
 "metadata": {
  "kernelspec": {
   "display_name": "osc_py39",
   "language": "python",
   "name": "osc_py39"
  },
  "language_info": {
   "codemirror_mode": {
    "name": "ipython",
    "version": 3
   },
   "file_extension": ".py",
   "mimetype": "text/x-python",
   "name": "python",
   "nbconvert_exporter": "python",
   "pygments_lexer": "ipython3",
   "version": "3.9.16"
  }
 },
 "nbformat": 4,
 "nbformat_minor": 5
}
