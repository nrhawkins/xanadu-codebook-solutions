{
 "cells": [
  {
   "cell_type": "markdown",
   "id": "914744e9",
   "metadata": {},
   "source": [
    "## F.3 Connecting the dots\n",
    "\n",
    "Now that you have implemented the QFT for one and two qubits, we will focus on implementing a generalized QFT on  qubits. To get an intuition behind the gates involved, it is easier to look at the action of the QFT on the computational basis states, rather than the matrix formulation. The action of the QFT on a -qubit state  is given by"
   ]
  },
  {
   "cell_type": "markdown",
   "id": "23b8eec8",
   "metadata": {},
   "source": [
    "Codercise F.3.1. Implement the QFT for three qubits.\n",
    "\n",
    "Hint.\n",
    "Calculate the controlled- gates as follows:\n",
    "\n",
    "These are familiar gates! Remember too that you can use the qml.ctrl operation to make a controlled gate."
   ]
  },
  {
   "cell_type": "code",
   "execution_count": 2,
   "id": "185a7d81",
   "metadata": {},
   "outputs": [],
   "source": [
    "import pennylane as qml"
   ]
  },
  {
   "cell_type": "code",
   "execution_count": 3,
   "id": "dc984780",
   "metadata": {},
   "outputs": [],
   "source": [
    "dev = qml.device(\"default.qubit\", wires=3)\n",
    "\n",
    "@qml.qnode(dev)\n",
    "def three_qubit_QFT(basis_id):\n",
    "    \"\"\"A circuit that computes the QFT on three qubits.\n",
    "    \n",
    "    Args:\n",
    "        basis_id (int): An integer value identifying the basis state to construct.\n",
    "        \n",
    "    Returns:\n",
    "        array[complex]: The state of the qubits after the QFT operation.\n",
    "    \"\"\"\n",
    "    # Prepare the basis state |basis_id>\n",
    "    bits = [int(x) for x in np.binary_repr(basis_id, width=dev.num_wires)]\n",
    "    qml.BasisStatePreparation(bits, wires=[0, 1, 2])\n",
    "    \n",
    "    ##################\n",
    "    # YOUR CODE HERE #\n",
    "    ################## \n",
    "\n",
    "    qml.Hadamard(wires=0)\n",
    "\n",
    "    qml.ctrl(qml.PhaseShift, (1,2), control_values=(1,0))(np.pi/2, wires=0)\n",
    "    \n",
    "    qml.ctrl(qml.PhaseShift, (1,2), control_values=(0,1))(np.pi/4, wires=0)\n",
    "    \n",
    "    qml.Hadamard(wires=1)\n",
    "\n",
    "    qml.ctrl(qml.PhaseShift, (0,2), control_values=(0,1))(np.pi/2, wires=1)\n",
    "    \n",
    "    qml.Hadamard(wires=2)\n",
    "\n",
    "    qml.SWAP(wires=[0,2])\n",
    "\n",
    "    return qml.state()"
   ]
  },
  {
   "cell_type": "markdown",
   "id": "cd111e44",
   "metadata": {},
   "source": [
    "Great, now let's go back to the general case for the QFT. We perform the Hadamard operation followed by a sequence of rotations for each qubit. Given a state , the action on one qubit  depends on all of the following qubits  (the less significant qubits). With this, we get our output in reverse order i.e.,\n",
    "\n",
    "We could correct this easily by reversing the order of qubits by using SWAP gates.\n",
    "\n",
    "Let's work backwards and first implement an -qubit SWAP program. After that, we will look into implementing rotations to tie it all together to produce the -qubit QFT.\n",
    "\n",
    "Codercise F.3.2. Implement a circuit that reverses the order of  qubits using SWAP gates. You need only  gates for this."
   ]
  },
  {
   "cell_type": "code",
   "execution_count": 4,
   "id": "b9b840d7",
   "metadata": {},
   "outputs": [],
   "source": [
    "dev = qml.device('default.qubit', wires=4)\n",
    "\n",
    "            \n",
    "def swap_bits(n_qubits):\n",
    "    \"\"\"A circuit that reverses the order of qubits, i.e.,\n",
    "    performs a SWAP such that [q1, q2, ..., qn] -> [qn, ... q2, q1].\n",
    "    \n",
    "    Args:\n",
    "        n_qubits (int): An integer value identifying the number of qubits.\n",
    "    \"\"\"\n",
    "    ##################\n",
    "    # YOUR CODE HERE #\n",
    "    ##################\n",
    "    n = n_qubits - 1\n",
    "    for i in range(n_qubits//2):\n",
    "        qml.SWAP(wires=[i, n])\n",
    "        n -= 1\n",
    "\n",
    "@qml.qnode(dev) \n",
    "def qft_node(basis_id, n_qubits):\n",
    "    # Prepare the basis state |basis_id>\n",
    "    bits = [int(x) for x in np.binary_repr(basis_id, width=n_qubits)]\n",
    "    qml.BasisStatePreparation(bits, wires=range(n_qubits))\n",
    "    # qft_rotations(n_qubits)\n",
    "    swap_bits(n_qubits)\n",
    "    return qml.state()"
   ]
  },
  {
   "cell_type": "markdown",
   "id": "620df305",
   "metadata": {},
   "source": [
    "Now, we will implement the rotations on qubits. Let us take a look at the circuit again and observe the rotations on each qubit.\n",
    "\n",
    "circuit\n",
    "\n",
    "We will first take an iterative approach (and in the next exercise, a recursive approach) to implement the rotations. For each qubit, we need to perform a Hadamard operation followed by a loop going over its lesser significant qubits implementing controlled rotations.\n",
    "\n",
    "You may have used the  gate and the  gate for the QFT on three qubits. These are special cases of a PennyLane gate called the qml.PhaseShift operation; you can make use of the general operation here. Furthermore, since we are using controlled phase gates in the QFT circuit, you can use the qml.ControlledPhaseShift operation directly.\n",
    "\n",
    "Codercise F.3.3. Implement the circuit that performs the Hadamards and controlled rotations on  qubits using qml.ControlledPhaseShift. The swap_bits operation defined in the exercise above is available to use. The result is the -qubit QFT!"
   ]
  },
  {
   "cell_type": "code",
   "execution_count": 5,
   "id": "d511e3a6",
   "metadata": {},
   "outputs": [],
   "source": [
    "dev = qml.device('default.qubit', wires=4)\n",
    "\n",
    "def qft_rotations(n_qubits):\n",
    "    \"\"\"A circuit performs the QFT rotations on the specified qubits.\n",
    "    \n",
    "    Args:\n",
    "        n_qubits (int): An integer value identifying the number of qubits.\n",
    "    \"\"\"\n",
    "\n",
    "    ##################\n",
    "    # YOUR CODE HERE #\n",
    "    ################## \n",
    "    for i in range(n_qubits):\n",
    "        qml.Hadamard(wires=i)\n",
    "        rotation = np.pi/2\n",
    "        control = 1\n",
    "        for j in range(i, n_qubits-1):\n",
    "            qml.ControlledPhaseShift(rotation, wires=[i+control, i])\n",
    "            rotation *= .5\n",
    "            control += 1    \n",
    "    \n",
    "@qml.qnode(dev) \n",
    "def qft_node(basis_id, n_qubits):\n",
    "    # Prepare the basis state |basis_id>\n",
    "    bits = [int(x) for x in np.binary_repr(basis_id, width=n_qubits)]\n",
    "    qml.BasisStatePreparation(bits, wires=range(n_qubits))\n",
    "    qft_rotations(n_qubits)\n",
    "    swap_bits(n_qubits)\n",
    "    return qml.state()"
   ]
  },
  {
   "cell_type": "markdown",
   "id": "1232dba7",
   "metadata": {},
   "source": [
    "You have successfully implemented the QFT! We will now try to implement a recursive solution to the rotations part of QFT as well. Let's take a look at the circuit again.\n",
    "\n",
    "circuit\n",
    "\n",
    "For the first qubit, we perform a Hadamard operation followed by a set of rotations with a contribution from the second to the last qubit. For the second set of qubits, we perform a Hadamard operation followed by a reduced set of the same rotations where the contributions come from the third to the last qubits. This goes on until we reach the last qubit where only a Hadamard gate needs to be applied without rotations. Hopefully, this is enough to get you started with a recursive solution!\n",
    "\n",
    "Codercise F.3.4. Implement the circuit that performs the Hadamard operations and controlled rotations on  qubits recursively. The swap_bits operation defined earlier is available for you.\n",
    "\n",
    "Hint.\n",
    "To start implementing recursive solution, it is useful to think of the base case and the recursive case. The recursive case for a QFT on  qubits is a Hadamard gate and a certain number of Controlled- rotations followed by a QFT for  qubits. This goes on until we reach the base case which is a single qubit QFT."
   ]
  },
  {
   "cell_type": "code",
   "execution_count": 6,
   "id": "2c396a87",
   "metadata": {},
   "outputs": [],
   "source": [
    "dev = qml.device('default.qubit', wires=4)\n",
    "\n",
    "def qft_recursive_rotations(n_qubits, wire=0):\n",
    "    \"\"\"A circuit that performs the QFT rotations on the specified qubits\n",
    "        recursively.\n",
    "        \n",
    "    Args:\n",
    "        n_qubits (int): An integer value identifying the number of qubits.\n",
    "        wire (int): An integer identifying the wire \n",
    "                    (or the qubit) to apply rotations on.\n",
    "    \"\"\"\n",
    "\n",
    "    ##################\n",
    "    # YOUR CODE HERE #\n",
    "    ################## \n",
    "    if n_qubits == 1:\n",
    "        qml.Hadamard(wires=wire)\n",
    "    else:\n",
    "        qml.Hadamard(wires=wire)\n",
    "        rotation = np.pi/2\n",
    "        control = 1\n",
    "        for j in range(wire, n_qubits-1):\n",
    "            qml.ControlledPhaseShift(rotation, wires=[wire+control, wire])\n",
    "            rotation *= .5\n",
    "            control += 1 \n",
    "        qft_recursive_rotations(n_qubits-1, wire+1)    \n",
    "                \n",
    "@qml.qnode(dev) \n",
    "def qft_node(basis_id, n_qubits):\n",
    "    # Prepare the basis state |basis_id>\n",
    "    bits = [int(x) for x in np.binary_repr(basis_id, width=n_qubits)]\n",
    "    qml.BasisStatePreparation(bits, wires=range(n_qubits))\n",
    "    qft_recursive_rotations(n_qubits)\n",
    "    swap_bits(n_qubits)\n",
    "    return qml.state()"
   ]
  },
  {
   "cell_type": "markdown",
   "id": "364bdcf6",
   "metadata": {},
   "source": [
    "Now that you've learned the inner workings of the QFT, we can use the PennyLane template to perform it. Additionally, if you check out the template's code, you'll see that you essentially implemented it in this module!\n",
    "\n",
    "Codercise F.3.5. Implement the QFT using qml.QFT."
   ]
  },
  {
   "cell_type": "code",
   "execution_count": 7,
   "id": "94e020ec",
   "metadata": {},
   "outputs": [],
   "source": [
    "dev = qml.device('default.qubit', wires=4)\n",
    "\n",
    "@qml.qnode(dev)\n",
    "def pennylane_qft(basis_id, n_qubits):\n",
    "    \"\"\"A that circuit performs the QFT using PennyLane's QFT template.\n",
    "    \n",
    "    Args:\n",
    "        basis_id (int): An integer value identifying \n",
    "            the basis state to construct.\n",
    "        n_qubits (int): An integer identifying the \n",
    "            number of qubits.\n",
    "            \n",
    "    Returns:\n",
    "        array[complex]: The state after applying the QFT to the qubits.\n",
    "    \"\"\"\n",
    "    # Prepare the basis state |basis_id>\n",
    "    bits = [int(x) for x in np.binary_repr(basis_id, width=n_qubits)]\n",
    "    qml.BasisStatePreparation(bits, wires=range(n_qubits))\n",
    "\n",
    "    ##################\n",
    "    # YOUR CODE HERE #\n",
    "    ################## \n",
    "    qml.QFT(wires=range(n_qubits))\n",
    "    return qml.state()"
   ]
  },
  {
   "cell_type": "code",
   "execution_count": null,
   "id": "d881b5d3",
   "metadata": {},
   "outputs": [],
   "source": []
  }
 ],
 "metadata": {
  "kernelspec": {
   "display_name": "osc_py39",
   "language": "python",
   "name": "osc_py39"
  },
  "language_info": {
   "codemirror_mode": {
    "name": "ipython",
    "version": 3
   },
   "file_extension": ".py",
   "mimetype": "text/x-python",
   "name": "python",
   "nbconvert_exporter": "python",
   "pygments_lexer": "ipython3",
   "version": "3.9.16"
  }
 },
 "nbformat": 4,
 "nbformat_minor": 5
}
